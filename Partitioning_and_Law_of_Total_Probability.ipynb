{
  "nbformat": 4,
  "nbformat_minor": 0,
  "metadata": {
    "colab": {
      "provenance": [],
      "authorship_tag": "ABX9TyMDMlmIyrZHdZl2dWEOhJXv",
      "include_colab_link": true
    },
    "kernelspec": {
      "name": "python3",
      "display_name": "Python 3"
    },
    "language_info": {
      "name": "python"
    }
  },
  "cells": [
    {
      "cell_type": "markdown",
      "metadata": {
        "id": "view-in-github",
        "colab_type": "text"
      },
      "source": [
        "<a href=\"https://colab.research.google.com/github/Patriciangugi/dsc-intro-to-probability/blob/master/Partitioning_and_Law_of_Total_Probability.ipynb\" target=\"_parent\"><img src=\"https://colab.research.google.com/assets/colab-badge.svg\" alt=\"Open In Colab\"/></a>"
      ]
    },
    {
      "cell_type": "code",
      "execution_count": null,
      "metadata": {
        "colab": {
          "base_uri": "https://localhost:8080/"
        },
        "id": "P3iJQZj8SHIm",
        "outputId": "17a358b2-f124-462e-eaff-005f0e50dddc"
      },
      "outputs": [
        {
          "output_type": "stream",
          "name": "stdout",
          "text": [
            "0.5\n"
          ]
        }
      ],
      "source": [
        "P_Red_given_Heads = 4 / 10\n",
        "P_Red_given_Tails = 6 / 10\n",
        "\n",
        "P_Heads = 0.5\n",
        "P_Tails = 0.5\n",
        "\n",
        "P_Red = P_Red_given_Heads * P_Heads + P_Red_given_Tails * P_Tails\n",
        "print(P_Red)"
      ]
    },
    {
      "cell_type": "code",
      "source": [
        "P_win_given_team_scores_first = 0.6\n",
        "P_win_given_opponent_scores_first = 0.1\n",
        "P_team_scores_first = 0.3\n",
        "P_opponent_scores_first = 1 - P_team_scores_first\n",
        "\n",
        "P_win = (P_win_given_team_scores_first * P_team_scores_first +\n",
        "         P_win_given_opponent_scores_first * P_opponent_scores_first)\n",
        "\n",
        "print(P_win)\n"
      ],
      "metadata": {
        "colab": {
          "base_uri": "https://localhost:8080/"
        },
        "id": "Ou6h7PPjST88",
        "outputId": "158ad6d3-67c0-4aa2-f277-bdb5f6394f0c"
      },
      "execution_count": null,
      "outputs": [
        {
          "output_type": "stream",
          "name": "stdout",
          "text": [
            "0.25\n"
          ]
        }
      ]
    },
    {
      "cell_type": "code",
      "source": [
        "P_G2 = 0.35\n",
        "P_F_given_G2 = 0.6\n",
        "\n",
        "P_F_and_G2 = P_F_given_G2 * P_G2\n",
        "\n",
        "print(P_F_and_G2)\n"
      ],
      "metadata": {
        "id": "lKK8B4YBSUA1",
        "colab": {
          "base_uri": "https://localhost:8080/"
        },
        "outputId": "d2dc7868-b896-43ab-973a-867932a93ff6"
      },
      "execution_count": 1,
      "outputs": [
        {
          "output_type": "stream",
          "name": "stdout",
          "text": [
            "0.21\n"
          ]
        }
      ]
    },
    {
      "cell_type": "code",
      "source": [
        "P_G1 = 0.4\n",
        "P_G3 = 0.25\n",
        "P_F_given_G1 = 0.3\n",
        "P_F_given_G3 = 0.5\n",
        "\n",
        "P_F = P_F_given_G1 * P_G1 + P_F_given_G2 * P_G2 + P_F_given_G3 * P_G3\n",
        "\n",
        "print(P_F)\n"
      ],
      "metadata": {
        "id": "evlY8IS3SULr",
        "colab": {
          "base_uri": "https://localhost:8080/"
        },
        "outputId": "4a2bdc47-30c7-4a48-e7b3-a1d8238ffb69"
      },
      "execution_count": 2,
      "outputs": [
        {
          "output_type": "stream",
          "name": "stdout",
          "text": [
            "0.45499999999999996\n"
          ]
        }
      ]
    },
    {
      "cell_type": "code",
      "source": [
        "P_G1_given_F = (P_F_given_G1 * P_G1) / P_F\n",
        "\n",
        "print(P_G1_given_F)\n"
      ],
      "metadata": {
        "id": "_quSEGUaSUQd",
        "colab": {
          "base_uri": "https://localhost:8080/"
        },
        "outputId": "75535419-1630-4c1b-a686-27c547f21a34"
      },
      "execution_count": 3,
      "outputs": [
        {
          "output_type": "stream",
          "name": "stdout",
          "text": [
            "0.26373626373626374\n"
          ]
        }
      ]
    },
    {
      "cell_type": "code",
      "source": [
        "P_overbook_Amsterdam = 0.4\n",
        "P_overbook_Brussels = 0.25\n",
        "P_overbook_Copenhagen = 0.35\n",
        "\n",
        "P_all_overbooked = P_overbook_Amsterdam * P_overbook_Brussels * P_overbook_Copenhagen\n",
        "\n",
        "print(P_all_overbooked)\n"
      ],
      "metadata": {
        "colab": {
          "base_uri": "https://localhost:8080/"
        },
        "id": "RX-qGB7QV63h",
        "outputId": "5ee6811f-7aed-4080-cd60-bcc4c42c7e17"
      },
      "execution_count": 4,
      "outputs": [
        {
          "output_type": "stream",
          "name": "stdout",
          "text": [
            "0.034999999999999996\n"
          ]
        }
      ]
    },
    {
      "cell_type": "code",
      "source": [
        "P_at_least_one_not_overbooked = 1 - P_all_overbooked\n",
        "\n",
        "print(P_at_least_one_not_overbooked)\n"
      ],
      "metadata": {
        "colab": {
          "base_uri": "https://localhost:8080/"
        },
        "id": "QPs-epWbV69n",
        "outputId": "5282db03-c812-419d-f0d7-423539b819db"
      },
      "execution_count": 5,
      "outputs": [
        {
          "output_type": "stream",
          "name": "stdout",
          "text": [
            "0.965\n"
          ]
        }
      ]
    },
    {
      "cell_type": "code",
      "source": [
        "# Calculate probability that exactly one flight is overbooked\n",
        "P_exactly_one_overbooked = (P_overbook_Amsterdam * (1 - P_overbook_Brussels) * (1 - P_overbook_Copenhagen) +\n",
        "                            (1 - P_overbook_Amsterdam) * P_overbook_Brussels * (1 - P_overbook_Copenhagen) +\n",
        "                            (1 - P_overbook_Amsterdam) * (1 - P_overbook_Brussels) * P_overbook_Copenhagen)\n",
        "\n",
        "print(P_exactly_one_overbooked)\n"
      ],
      "metadata": {
        "colab": {
          "base_uri": "https://localhost:8080/"
        },
        "id": "nGdk4xdPV7Cj",
        "outputId": "af11e2a8-b4d6-4f06-897f-7d7ce8576c15"
      },
      "execution_count": 6,
      "outputs": [
        {
          "output_type": "stream",
          "name": "stdout",
          "text": [
            "0.45\n"
          ]
        }
      ]
    },
    {
      "cell_type": "code",
      "source": [
        "P_bag1 = 1/3\n",
        "P_bag2 = 1/3\n",
        "P_bag3 = 1/3\n",
        "\n",
        "P_red_given_bag1 = 75 / 100\n",
        "P_red_given_bag2 = 60 / 100\n",
        "P_red_given_bag3 = 45 / 100\n",
        "\n",
        "# Calculate probability that the chosen marble is red\n",
        "P_red = P_red_given_bag1 * P_bag1 + P_red_given_bag2 * P_bag2 + P_red_given_bag3 * P_bag3\n",
        "\n",
        "print(P_red)\n"
      ],
      "metadata": {
        "colab": {
          "base_uri": "https://localhost:8080/"
        },
        "id": "yXdjwGhfV7Gf",
        "outputId": "852d26f2-707d-418f-d2b6-0c2508856f34"
      },
      "execution_count": 7,
      "outputs": [
        {
          "output_type": "stream",
          "name": "stdout",
          "text": [
            "0.6\n"
          ]
        }
      ]
    }
  ]
}